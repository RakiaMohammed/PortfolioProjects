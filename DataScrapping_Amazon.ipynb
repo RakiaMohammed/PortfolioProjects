{
 "cells": [
  {
   "cell_type": "code",
   "execution_count": 23,
   "id": "95a58dc8",
   "metadata": {},
   "outputs": [],
   "source": [
    "from bs4 import BeautifulSoup\n",
    "import requests\n",
    "import time\n",
    "import datetime\n",
    "import csv \n",
    "import pandas as pd"
   ]
  },
  {
   "cell_type": "code",
   "execution_count": 36,
   "id": "0b26b5da",
   "metadata": {},
   "outputs": [
    {
     "name": "stdout",
     "output_type": "stream",
     "text": [
      "Tommy Hilfiger Men's Undershirts Multipack Cotton Classics Slim Fit Crew T-Shirts\n",
      "99.95\n",
      "2022-12-13\n"
     ]
    }
   ],
   "source": [
    "URL= 'https://www.amazon.sg/Tommy-Hilfiger-Undershirts-Multipack-Classics/dp/B07MW97V88/ref=sr_1_21_sspa?crid=O2WXHUQ4P6CO&keywords=tshirt+for+men&qid=1670911079&sprefix=tshirt+for+men%2Caps%2C371&sr=8-21-spons&psc=1&spLa=ZW5jcnlwdGVkUXVhbGlmaWVyPUEzTk00RjZJMkpFUThVJmVuY3J5cHRlZElkPUEwODYyMTE5MUFIQ0RXN1gxVkZaVyZlbmNyeXB0ZWRBZElkPUFYU0FCRjVITU5TSUomd2lkZ2V0TmFtZT1zcF9tdGYmYWN0aW9uPWNsaWNrUmVkaXJlY3QmZG9Ob3RMb2dDbGljaz10cnVl'\n",
    "headers= {\"User-Agent\": \"Mozilla/5.0 (Windows NT 10.0; Win64; x64) AppleWebKit/537.36 (KHTML, like Gecko) Chrome/78.0.3904.108 Safari/537.36\", \"Accept-Encoding\":\"gzip, deflate\", \"Accept\":\"text/html,application/xhtml+xml,application/xml;q=0.9,*/*;q=0.8\", \"DNT\":\"1\",\"Connection\":\"close\", \"Upgrade-Insecure-Requests\":\"1\"}\n",
    "page= requests.get(URL, headers=headers) #Gets data from a website(page)\n",
    "soup1= BeautifulSoup(page.content, \"html.parser\") #Gets HTML content from page data and checks syntax using parser\n",
    "soup2= BeautifulSoup(soup1.prettify(),\"html.parser\") #Formats HTML content\n",
    "title=soup2.find('span', attrs={'id':\"productTitle\"}).text.strip() #Gets text and removes unnecessary spaces\n",
    "pricewithcurrency= soup2.find('span', attrs={'class':\"a-offscreen\"}).text.strip()\n",
    "price=pricewithcurrency[2:] #Reomves S$\n",
    "today= datetime.date.today()\n",
    "print(title)\n",
    "print(price)\n",
    "print(today)"
   ]
  },
  {
   "cell_type": "code",
   "execution_count": null,
   "id": "a1ab06ff",
   "metadata": {},
   "outputs": [],
   "source": [
    "#Creates a CSV and writes header, data into it.\n",
    "header = ['Title', 'Price', 'Date']\n",
    "data = [title, price, today]\n",
    "\n",
    "with open('AmazonWebScraperDataset.csv', 'w', newline='', encoding='UTF8') as f:\n",
    "    writer = csv.writer(f)\n",
    "    writer.writerow(header)\n",
    "    writer.writerow(data)"
   ]
  },
  {
   "cell_type": "code",
   "execution_count": 29,
   "id": "8a8153a1",
   "metadata": {},
   "outputs": [
    {
     "name": "stdout",
     "output_type": "stream",
     "text": [
      "                                               Title  Price        Date\n",
      "0  Tommy Hilfiger Men's Undershirts Multipack Cot...  99.95  2022-12-13\n",
      "1  Tommy Hilfiger Men's Undershirts Multipack Cot...  99.95  2022-12-13\n"
     ]
    }
   ],
   "source": [
    "#Appends Data:\n",
    "data = [title, price, today]\n",
    "with open('AmazonWebScraperDataset.csv', 'a+', newline='', encoding='UTF8') as f:\n",
    "    writer = csv.writer(f)\n",
    "    writer.writerow(data)"
   ]
  },
  {
   "cell_type": "code",
   "execution_count": 35,
   "id": "0844fb12",
   "metadata": {},
   "outputs": [
    {
     "name": "stdout",
     "output_type": "stream",
     "text": [
      "                                               Title  Price        Date\n",
      "0  Tommy Hilfiger Men's Undershirts Multipack Cot...  99.95  2022-12-13\n",
      "1  Tommy Hilfiger Men's Undershirts Multipack Cot...  99.95  2022-12-13\n",
      "2  Tommy Hilfiger Men's Undershirts Multipack Cot...  99.95  2022-12-13\n",
      "3  Tommy Hilfiger Men's Undershirts Multipack Cot...  99.95  2022-12-13\n",
      "4  Tommy Hilfiger Men's Undershirts Multipack Cot...  99.95  2022-12-13\n"
     ]
    }
   ],
   "source": [
    "#Reads and Prints Data from CSV:\n",
    "df = pd.read_csv('/Users/rakia/Untitled Folder/AmazonWebScraperDataset.csv')\n",
    "print(df)"
   ]
  },
  {
   "cell_type": "code",
   "execution_count": 34,
   "id": "d4e68420",
   "metadata": {},
   "outputs": [
    {
     "ename": "KeyboardInterrupt",
     "evalue": "",
     "output_type": "error",
     "traceback": [
      "\u001b[0;31m---------------------------------------------------------------------------\u001b[0m",
      "\u001b[0;31mKeyboardInterrupt\u001b[0m                         Traceback (most recent call last)",
      "\u001b[0;32m/var/folders/gt/mv8p88w513d8r7qrpftncvtw0000gp/T/ipykernel_862/88157298.py\u001b[0m in \u001b[0;36m<module>\u001b[0;34m\u001b[0m\n\u001b[1;32m     21\u001b[0m \u001b[0;32mwhile\u001b[0m\u001b[0;34m(\u001b[0m\u001b[0;32mTrue\u001b[0m\u001b[0;34m)\u001b[0m\u001b[0;34m:\u001b[0m\u001b[0;34m\u001b[0m\u001b[0;34m\u001b[0m\u001b[0m\n\u001b[1;32m     22\u001b[0m     \u001b[0mcheck_price\u001b[0m\u001b[0;34m(\u001b[0m\u001b[0;34m)\u001b[0m\u001b[0;34m\u001b[0m\u001b[0;34m\u001b[0m\u001b[0m\n\u001b[0;32m---> 23\u001b[0;31m     \u001b[0mtime\u001b[0m\u001b[0;34m.\u001b[0m\u001b[0msleep\u001b[0m\u001b[0;34m(\u001b[0m\u001b[0;36m4\u001b[0m\u001b[0;34m)\u001b[0m\u001b[0;34m\u001b[0m\u001b[0;34m\u001b[0m\u001b[0m\n\u001b[0m\u001b[1;32m     24\u001b[0m \u001b[0;34m\u001b[0m\u001b[0m\n\u001b[1;32m     25\u001b[0m \u001b[0;34m\u001b[0m\u001b[0m\n",
      "\u001b[0;31mKeyboardInterrupt\u001b[0m: "
     ]
    }
   ],
   "source": [
    "#Runs check_price after a set time and inputs data into your CSV\n",
    "def check_price():\n",
    "    URL= 'https://www.amazon.sg/Tommy-Hilfiger-Undershirts-Multipack-Classics/dp/B07MW97V88/ref=sr_1_21_sspa?crid=O2WXHUQ4P6CO&keywords=tshirt+for+men&qid=1670911079&sprefix=tshirt+for+men%2Caps%2C371&sr=8-21-spons&psc=1&spLa=ZW5jcnlwdGVkUXVhbGlmaWVyPUEzTk00RjZJMkpFUThVJmVuY3J5cHRlZElkPUEwODYyMTE5MUFIQ0RXN1gxVkZaVyZlbmNyeXB0ZWRBZElkPUFYU0FCRjVITU5TSUomd2lkZ2V0TmFtZT1zcF9tdGYmYWN0aW9uPWNsaWNrUmVkaXJlY3QmZG9Ob3RMb2dDbGljaz10cnVl'\n",
    "    headers= {\"User-Agent\": \"Mozilla/5.0 (Windows NT 10.0; Win64; x64) AppleWebKit/537.36 (KHTML, like Gecko) Chrome/78.0.3904.108 Safari/537.36\", \"Accept-Encoding\":\"gzip, deflate\", \"Accept\":\"text/html,application/xhtml+xml,application/xml;q=0.9,*/*;q=0.8\", \"DNT\":\"1\",\"Connection\":\"close\", \"Upgrade-Insecure-Requests\":\"1\"}\n",
    "    page= requests.get(URL, headers=headers) #Gets data from a website(page)\n",
    "    soup1= BeautifulSoup(page.content, \"html.parser\") #Gets HTML content from page data and checks syntax using parser\n",
    "    soup2= BeautifulSoup(soup1.prettify(),\"html.parser\") #Formats HTML content\n",
    "\n",
    "    title=soup2.find('span', attrs={'id':\"productTitle\"}).text.strip() #Gets text and removes unnecessary spaces\n",
    "    pricewithcurrency= soup2.find('span', attrs={'class':\"a-offscreen\"}).text.strip()\n",
    "    price=pricewithcurrency[2:] #Reomves S$\n",
    "    \n",
    "    today= datetime.date.today()\n",
    "    \n",
    "    header=['Title', 'Price', 'Date']\n",
    "    data=[title, price, today]\n",
    "\n",
    "    with open('AmazonWebScraperDataset.csv','a+', newline='') as f:\n",
    "        writer=csv.writer(f)\n",
    "        writer.writerow(data)\n",
    "    \n",
    "while(True):\n",
    "    check_price()\n",
    "    time.sleep(86400)  #Continuously runs after 24hours till interrupted \n",
    "\n",
    "    "
   ]
  },
  {
   "cell_type": "code",
   "execution_count": null,
   "id": "520eb5da",
   "metadata": {},
   "outputs": [],
   "source": []
  },
  {
   "cell_type": "code",
   "execution_count": null,
   "id": "24e3847c",
   "metadata": {},
   "outputs": [],
   "source": []
  },
  {
   "cell_type": "code",
   "execution_count": null,
   "id": "10b84d53",
   "metadata": {},
   "outputs": [],
   "source": []
  }
 ],
 "metadata": {
  "kernelspec": {
   "display_name": "Python 3 (ipykernel)",
   "language": "python",
   "name": "python3"
  },
  "language_info": {
   "codemirror_mode": {
    "name": "ipython",
    "version": 3
   },
   "file_extension": ".py",
   "mimetype": "text/x-python",
   "name": "python",
   "nbconvert_exporter": "python",
   "pygments_lexer": "ipython3",
   "version": "3.9.13"
  }
 },
 "nbformat": 4,
 "nbformat_minor": 5
}
